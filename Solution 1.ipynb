{
 "cells": [
  {
   "cell_type": "markdown",
   "metadata": {},
   "source": [
    "## Solution - Build a Multivariable Linear Regression model to predict the Traffic for shared supply (independent variables)\n",
    "### Assumptions \n",
    "\n",
    "1) A linear relationship is assumed between the dependent variable and the independent variables\n",
    "\n",
    "2) All independent variables are independent of each other (As supply of one category should not influence supply of other Tiers). Thus, the correlation between the input variables should be very low\n",
    "\n",
    "3) Regression residuals must be normally distributed\n",
    "\n",
    "4) There shouldn't be autocorrelation in the residuals\n",
    "\n",
    "\n",
    "\n",
    "### Step 1) Import all necessary libraries\n"
   ]
  },
  {
   "cell_type": "code",
   "execution_count": 1,
   "metadata": {},
   "outputs": [],
   "source": [
    "#For Visualizations & data wrangling\n",
    "import numpy as np\n",
    "import seaborn as sn\n",
    "import matplotlib.pyplot as plt\n",
    "import pylab\n",
    "import pandas as pd\n",
    "import math\n",
    "\n",
    "#For stats and variation analysis\n",
    "from scipy import stats\n",
    "import statsmodels.api as sm\n",
    "from statsmodels.stats import diagnostic as diag\n",
    "from statsmodels.stats.outliers_influence import variance_inflation_factor\n",
    "\n",
    "#For linear regression model\n",
    "from sklearn import linear_model\n",
    "from sklearn.linear_model import LinearRegression\n",
    "from sklearn.model_selection import train_test_split\n",
    "from sklearn.metrics import mean_squared_error, r2_score, mean_absolute_error"
   ]
  },
  {
   "cell_type": "markdown",
   "metadata": {},
   "source": [
    "### Step 2) Import file for input and output variables and check for NULLs"
   ]
  },
  {
   "cell_type": "code",
   "execution_count": 2,
   "metadata": {},
   "outputs": [
    {
     "data": {
      "text/plain": [
       "'----------------------------------------------------------------------------------------------------'"
      ]
     },
     "metadata": {},
     "output_type": "display_data"
    },
    {
     "data": {
      "text/plain": [
       "Date       False\n",
       "Traffic    False\n",
       "dtype: bool"
      ]
     },
     "metadata": {},
     "output_type": "display_data"
    },
    {
     "data": {
      "text/plain": [
       "'----------------------------------------------------------------------------------------------------'"
      ]
     },
     "metadata": {},
     "output_type": "display_data"
    },
    {
     "data": {
      "text/plain": [
       "Date no                False\n",
       "Tier 1 - Video         False\n",
       "Tier 2  - Video        False\n",
       "Tier 2 - Video         False\n",
       "Tier 4 - Video         False\n",
       "Tier 5 - Video         False\n",
       "Tier 6 - Video         False\n",
       "Tier 7 - Video         False\n",
       "Tier 8 - Video         False\n",
       "Tier 9 - Video         False\n",
       "Tier 1 - Non Video     False\n",
       "Tier 2  - Non Video    False\n",
       "Tier 2 - Non Video     False\n",
       "Tier 4 - Non Video     False\n",
       "Tier 5 - Non Video     False\n",
       "Tier 6 - Non Video     False\n",
       "Tier 7 - Non Video     False\n",
       "Tier 8 - Non Video     False\n",
       "Tier 9 - Non Video     False\n",
       "dtype: bool"
      ]
     },
     "metadata": {},
     "output_type": "display_data"
    }
   ],
   "source": [
    "#Load data into Pandas\n",
    "xls = pd.ExcelFile(\"~/Downloads/Sr.Manager_FC_Projections_Case Study.xlsx\")\n",
    "df1 = pd.read_excel(xls,'Traffic')\n",
    "df2 = pd.read_excel(xls,'Content Supply')\n",
    "\n",
    "#Check for NULL values in the input datasets\n",
    "display('-'*100)\n",
    "display(df1.isnull().any())\n",
    "display('-'*100)\n",
    "display(df2.isnull().any())"
   ]
  },
  {
   "cell_type": "markdown",
   "metadata": {},
   "source": [
    "### Step 3) Describe and datatype conversion if required"
   ]
  },
  {
   "cell_type": "code",
   "execution_count": 3,
   "metadata": {},
   "outputs": [
    {
     "data": {
      "text/html": [
       "<div>\n",
       "<style scoped>\n",
       "    .dataframe tbody tr th:only-of-type {\n",
       "        vertical-align: middle;\n",
       "    }\n",
       "\n",
       "    .dataframe tbody tr th {\n",
       "        vertical-align: top;\n",
       "    }\n",
       "\n",
       "    .dataframe thead th {\n",
       "        text-align: right;\n",
       "    }\n",
       "</style>\n",
       "<table border=\"1\" class=\"dataframe\">\n",
       "  <thead>\n",
       "    <tr style=\"text-align: right;\">\n",
       "      <th></th>\n",
       "      <th>Tier 1 - Video</th>\n",
       "      <th>Tier 2  - Video</th>\n",
       "      <th>Tier 3 - Video</th>\n",
       "      <th>Tier 4 - Video</th>\n",
       "      <th>Tier 5 - Video</th>\n",
       "      <th>Tier 6 - Video</th>\n",
       "      <th>Tier 7 - Video</th>\n",
       "      <th>Tier 8 - Video</th>\n",
       "      <th>Tier 9 - Video</th>\n",
       "      <th>Tier 1 - Non Video</th>\n",
       "      <th>Tier 2 - Non Video</th>\n",
       "      <th>Tier 2 - Non Video</th>\n",
       "      <th>Tier 4 - Non Video</th>\n",
       "      <th>Tier 5 - Non Video</th>\n",
       "      <th>Tier 6 - Non Video</th>\n",
       "      <th>Tier 7 - Non Video</th>\n",
       "      <th>Tier 8 - Non Video</th>\n",
       "      <th>Tier 9 - Non Video</th>\n",
       "    </tr>\n",
       "  </thead>\n",
       "  <tbody>\n",
       "    <tr>\n",
       "      <th>count</th>\n",
       "      <td>135.0</td>\n",
       "      <td>135.000000</td>\n",
       "      <td>135.000000</td>\n",
       "      <td>135.000000</td>\n",
       "      <td>135.000000</td>\n",
       "      <td>135.000000</td>\n",
       "      <td>135.000000</td>\n",
       "      <td>135.000000</td>\n",
       "      <td>135.000000</td>\n",
       "      <td>135.0</td>\n",
       "      <td>135.0</td>\n",
       "      <td>135.000000</td>\n",
       "      <td>135.000000</td>\n",
       "      <td>135.0</td>\n",
       "      <td>135.000000</td>\n",
       "      <td>135.000000</td>\n",
       "      <td>135.000000</td>\n",
       "      <td>135.000000</td>\n",
       "    </tr>\n",
       "    <tr>\n",
       "      <th>mean</th>\n",
       "      <td>0.0</td>\n",
       "      <td>0.244444</td>\n",
       "      <td>1.629630</td>\n",
       "      <td>3.207407</td>\n",
       "      <td>0.325926</td>\n",
       "      <td>4.629630</td>\n",
       "      <td>0.592593</td>\n",
       "      <td>4.851852</td>\n",
       "      <td>2.911111</td>\n",
       "      <td>0.0</td>\n",
       "      <td>0.0</td>\n",
       "      <td>0.496296</td>\n",
       "      <td>0.896296</td>\n",
       "      <td>0.0</td>\n",
       "      <td>1.281481</td>\n",
       "      <td>0.014815</td>\n",
       "      <td>1.348148</td>\n",
       "      <td>2.725926</td>\n",
       "    </tr>\n",
       "    <tr>\n",
       "      <th>std</th>\n",
       "      <td>0.0</td>\n",
       "      <td>0.566037</td>\n",
       "      <td>2.177705</td>\n",
       "      <td>4.538552</td>\n",
       "      <td>0.761280</td>\n",
       "      <td>8.990659</td>\n",
       "      <td>3.296983</td>\n",
       "      <td>3.575452</td>\n",
       "      <td>2.649885</td>\n",
       "      <td>0.0</td>\n",
       "      <td>0.0</td>\n",
       "      <td>1.078100</td>\n",
       "      <td>1.452091</td>\n",
       "      <td>0.0</td>\n",
       "      <td>1.964809</td>\n",
       "      <td>0.121261</td>\n",
       "      <td>2.344630</td>\n",
       "      <td>3.360059</td>\n",
       "    </tr>\n",
       "    <tr>\n",
       "      <th>min</th>\n",
       "      <td>0.0</td>\n",
       "      <td>0.000000</td>\n",
       "      <td>0.000000</td>\n",
       "      <td>0.000000</td>\n",
       "      <td>0.000000</td>\n",
       "      <td>0.000000</td>\n",
       "      <td>0.000000</td>\n",
       "      <td>0.000000</td>\n",
       "      <td>0.000000</td>\n",
       "      <td>0.0</td>\n",
       "      <td>0.0</td>\n",
       "      <td>0.000000</td>\n",
       "      <td>0.000000</td>\n",
       "      <td>0.0</td>\n",
       "      <td>0.000000</td>\n",
       "      <td>0.000000</td>\n",
       "      <td>0.000000</td>\n",
       "      <td>0.000000</td>\n",
       "    </tr>\n",
       "    <tr>\n",
       "      <th>25%</th>\n",
       "      <td>0.0</td>\n",
       "      <td>0.000000</td>\n",
       "      <td>0.000000</td>\n",
       "      <td>0.000000</td>\n",
       "      <td>0.000000</td>\n",
       "      <td>1.000000</td>\n",
       "      <td>0.000000</td>\n",
       "      <td>3.000000</td>\n",
       "      <td>1.000000</td>\n",
       "      <td>0.0</td>\n",
       "      <td>0.0</td>\n",
       "      <td>0.000000</td>\n",
       "      <td>0.000000</td>\n",
       "      <td>0.0</td>\n",
       "      <td>0.000000</td>\n",
       "      <td>0.000000</td>\n",
       "      <td>0.000000</td>\n",
       "      <td>0.000000</td>\n",
       "    </tr>\n",
       "    <tr>\n",
       "      <th>50%</th>\n",
       "      <td>0.0</td>\n",
       "      <td>0.000000</td>\n",
       "      <td>1.000000</td>\n",
       "      <td>1.000000</td>\n",
       "      <td>0.000000</td>\n",
       "      <td>3.000000</td>\n",
       "      <td>0.000000</td>\n",
       "      <td>5.000000</td>\n",
       "      <td>3.000000</td>\n",
       "      <td>0.0</td>\n",
       "      <td>0.0</td>\n",
       "      <td>0.000000</td>\n",
       "      <td>0.000000</td>\n",
       "      <td>0.0</td>\n",
       "      <td>0.000000</td>\n",
       "      <td>0.000000</td>\n",
       "      <td>0.000000</td>\n",
       "      <td>1.000000</td>\n",
       "    </tr>\n",
       "    <tr>\n",
       "      <th>75%</th>\n",
       "      <td>0.0</td>\n",
       "      <td>0.000000</td>\n",
       "      <td>3.000000</td>\n",
       "      <td>4.000000</td>\n",
       "      <td>0.000000</td>\n",
       "      <td>4.000000</td>\n",
       "      <td>0.000000</td>\n",
       "      <td>7.000000</td>\n",
       "      <td>4.000000</td>\n",
       "      <td>0.0</td>\n",
       "      <td>0.0</td>\n",
       "      <td>0.000000</td>\n",
       "      <td>1.000000</td>\n",
       "      <td>0.0</td>\n",
       "      <td>2.000000</td>\n",
       "      <td>0.000000</td>\n",
       "      <td>1.000000</td>\n",
       "      <td>3.000000</td>\n",
       "    </tr>\n",
       "    <tr>\n",
       "      <th>max</th>\n",
       "      <td>0.0</td>\n",
       "      <td>3.000000</td>\n",
       "      <td>9.000000</td>\n",
       "      <td>27.000000</td>\n",
       "      <td>3.000000</td>\n",
       "      <td>56.000000</td>\n",
       "      <td>23.000000</td>\n",
       "      <td>30.000000</td>\n",
       "      <td>17.000000</td>\n",
       "      <td>0.0</td>\n",
       "      <td>0.0</td>\n",
       "      <td>5.000000</td>\n",
       "      <td>4.000000</td>\n",
       "      <td>0.0</td>\n",
       "      <td>8.000000</td>\n",
       "      <td>1.000000</td>\n",
       "      <td>10.000000</td>\n",
       "      <td>18.000000</td>\n",
       "    </tr>\n",
       "  </tbody>\n",
       "</table>\n",
       "</div>"
      ],
      "text/plain": [
       "       Tier 1 - Video  Tier 2  - Video  Tier 3 - Video  Tier 4 - Video  \\\n",
       "count           135.0       135.000000      135.000000      135.000000   \n",
       "mean              0.0         0.244444        1.629630        3.207407   \n",
       "std               0.0         0.566037        2.177705        4.538552   \n",
       "min               0.0         0.000000        0.000000        0.000000   \n",
       "25%               0.0         0.000000        0.000000        0.000000   \n",
       "50%               0.0         0.000000        1.000000        1.000000   \n",
       "75%               0.0         0.000000        3.000000        4.000000   \n",
       "max               0.0         3.000000        9.000000       27.000000   \n",
       "\n",
       "       Tier 5 - Video  Tier 6 - Video  Tier 7 - Video  Tier 8 - Video  \\\n",
       "count      135.000000      135.000000      135.000000      135.000000   \n",
       "mean         0.325926        4.629630        0.592593        4.851852   \n",
       "std          0.761280        8.990659        3.296983        3.575452   \n",
       "min          0.000000        0.000000        0.000000        0.000000   \n",
       "25%          0.000000        1.000000        0.000000        3.000000   \n",
       "50%          0.000000        3.000000        0.000000        5.000000   \n",
       "75%          0.000000        4.000000        0.000000        7.000000   \n",
       "max          3.000000       56.000000       23.000000       30.000000   \n",
       "\n",
       "       Tier 9 - Video  Tier 1 - Non Video  Tier 2 - Non Video  \\\n",
       "count      135.000000               135.0               135.0   \n",
       "mean         2.911111                 0.0                 0.0   \n",
       "std          2.649885                 0.0                 0.0   \n",
       "min          0.000000                 0.0                 0.0   \n",
       "25%          1.000000                 0.0                 0.0   \n",
       "50%          3.000000                 0.0                 0.0   \n",
       "75%          4.000000                 0.0                 0.0   \n",
       "max         17.000000                 0.0                 0.0   \n",
       "\n",
       "       Tier 2 - Non Video  Tier 4 - Non Video  Tier 5 - Non Video  \\\n",
       "count          135.000000          135.000000               135.0   \n",
       "mean             0.496296            0.896296                 0.0   \n",
       "std              1.078100            1.452091                 0.0   \n",
       "min              0.000000            0.000000                 0.0   \n",
       "25%              0.000000            0.000000                 0.0   \n",
       "50%              0.000000            0.000000                 0.0   \n",
       "75%              0.000000            1.000000                 0.0   \n",
       "max              5.000000            4.000000                 0.0   \n",
       "\n",
       "       Tier 6 - Non Video  Tier 7 - Non Video  Tier 8 - Non Video  \\\n",
       "count          135.000000          135.000000          135.000000   \n",
       "mean             1.281481            0.014815            1.348148   \n",
       "std              1.964809            0.121261            2.344630   \n",
       "min              0.000000            0.000000            0.000000   \n",
       "25%              0.000000            0.000000            0.000000   \n",
       "50%              0.000000            0.000000            0.000000   \n",
       "75%              2.000000            0.000000            1.000000   \n",
       "max              8.000000            1.000000           10.000000   \n",
       "\n",
       "       Tier 9 - Non Video  \n",
       "count          135.000000  \n",
       "mean             2.725926  \n",
       "std              3.360059  \n",
       "min              0.000000  \n",
       "25%              0.000000  \n",
       "50%              1.000000  \n",
       "75%              3.000000  \n",
       "max             18.000000  "
      ]
     },
     "metadata": {},
     "output_type": "display_data"
    },
    {
     "data": {
      "text/html": [
       "<div>\n",
       "<style scoped>\n",
       "    .dataframe tbody tr th:only-of-type {\n",
       "        vertical-align: middle;\n",
       "    }\n",
       "\n",
       "    .dataframe tbody tr th {\n",
       "        vertical-align: top;\n",
       "    }\n",
       "\n",
       "    .dataframe thead th {\n",
       "        text-align: right;\n",
       "    }\n",
       "</style>\n",
       "<table border=\"1\" class=\"dataframe\">\n",
       "  <thead>\n",
       "    <tr style=\"text-align: right;\">\n",
       "      <th></th>\n",
       "      <th>Traffic</th>\n",
       "    </tr>\n",
       "    <tr>\n",
       "      <th>Date</th>\n",
       "      <th></th>\n",
       "    </tr>\n",
       "  </thead>\n",
       "  <tbody>\n",
       "    <tr>\n",
       "      <th>2018-01-01</th>\n",
       "      <td>20050.0</td>\n",
       "    </tr>\n",
       "    <tr>\n",
       "      <th>2018-01-02</th>\n",
       "      <td>32631.0</td>\n",
       "    </tr>\n",
       "    <tr>\n",
       "      <th>2018-01-03</th>\n",
       "      <td>61233.0</td>\n",
       "    </tr>\n",
       "    <tr>\n",
       "      <th>2018-01-04</th>\n",
       "      <td>68305.0</td>\n",
       "    </tr>\n",
       "    <tr>\n",
       "      <th>2018-01-05</th>\n",
       "      <td>54619.0</td>\n",
       "    </tr>\n",
       "  </tbody>\n",
       "</table>\n",
       "</div>"
      ],
      "text/plain": [
       "            Traffic\n",
       "Date               \n",
       "2018-01-01  20050.0\n",
       "2018-01-02  32631.0\n",
       "2018-01-03  61233.0\n",
       "2018-01-04  68305.0\n",
       "2018-01-05  54619.0"
      ]
     },
     "metadata": {},
     "output_type": "display_data"
    },
    {
     "data": {
      "text/plain": [
       "'----------------------------------------------------------------------------------------------------'"
      ]
     },
     "metadata": {},
     "output_type": "display_data"
    },
    {
     "data": {
      "text/html": [
       "<div>\n",
       "<style scoped>\n",
       "    .dataframe tbody tr th:only-of-type {\n",
       "        vertical-align: middle;\n",
       "    }\n",
       "\n",
       "    .dataframe tbody tr th {\n",
       "        vertical-align: top;\n",
       "    }\n",
       "\n",
       "    .dataframe thead th {\n",
       "        text-align: right;\n",
       "    }\n",
       "</style>\n",
       "<table border=\"1\" class=\"dataframe\">\n",
       "  <thead>\n",
       "    <tr style=\"text-align: right;\">\n",
       "      <th></th>\n",
       "      <th>Tier 1 - Video</th>\n",
       "      <th>Tier 2  - Video</th>\n",
       "      <th>Tier 3 - Video</th>\n",
       "      <th>Tier 4 - Video</th>\n",
       "      <th>Tier 5 - Video</th>\n",
       "      <th>Tier 6 - Video</th>\n",
       "      <th>Tier 7 - Video</th>\n",
       "      <th>Tier 8 - Video</th>\n",
       "      <th>Tier 9 - Video</th>\n",
       "      <th>Tier 1 - Non Video</th>\n",
       "      <th>Tier 2 - Non Video</th>\n",
       "      <th>Tier 2 - Non Video</th>\n",
       "      <th>Tier 4 - Non Video</th>\n",
       "      <th>Tier 5 - Non Video</th>\n",
       "      <th>Tier 6 - Non Video</th>\n",
       "      <th>Tier 7 - Non Video</th>\n",
       "      <th>Tier 8 - Non Video</th>\n",
       "      <th>Tier 9 - Non Video</th>\n",
       "    </tr>\n",
       "    <tr>\n",
       "      <th>Date no</th>\n",
       "      <th></th>\n",
       "      <th></th>\n",
       "      <th></th>\n",
       "      <th></th>\n",
       "      <th></th>\n",
       "      <th></th>\n",
       "      <th></th>\n",
       "      <th></th>\n",
       "      <th></th>\n",
       "      <th></th>\n",
       "      <th></th>\n",
       "      <th></th>\n",
       "      <th></th>\n",
       "      <th></th>\n",
       "      <th></th>\n",
       "      <th></th>\n",
       "      <th></th>\n",
       "      <th></th>\n",
       "    </tr>\n",
       "  </thead>\n",
       "  <tbody>\n",
       "    <tr>\n",
       "      <th>2018-01-01</th>\n",
       "      <td>0.0</td>\n",
       "      <td>0.0</td>\n",
       "      <td>1.0</td>\n",
       "      <td>4.0</td>\n",
       "      <td>0.0</td>\n",
       "      <td>3.0</td>\n",
       "      <td>0.0</td>\n",
       "      <td>5.0</td>\n",
       "      <td>1.0</td>\n",
       "      <td>0.0</td>\n",
       "      <td>0.0</td>\n",
       "      <td>1.0</td>\n",
       "      <td>0.0</td>\n",
       "      <td>0.0</td>\n",
       "      <td>0.0</td>\n",
       "      <td>0.0</td>\n",
       "      <td>0.0</td>\n",
       "      <td>8.0</td>\n",
       "    </tr>\n",
       "    <tr>\n",
       "      <th>2018-01-02</th>\n",
       "      <td>0.0</td>\n",
       "      <td>0.0</td>\n",
       "      <td>3.0</td>\n",
       "      <td>4.0</td>\n",
       "      <td>0.0</td>\n",
       "      <td>1.0</td>\n",
       "      <td>0.0</td>\n",
       "      <td>4.0</td>\n",
       "      <td>3.0</td>\n",
       "      <td>0.0</td>\n",
       "      <td>0.0</td>\n",
       "      <td>1.0</td>\n",
       "      <td>0.0</td>\n",
       "      <td>0.0</td>\n",
       "      <td>0.0</td>\n",
       "      <td>0.0</td>\n",
       "      <td>0.0</td>\n",
       "      <td>0.0</td>\n",
       "    </tr>\n",
       "    <tr>\n",
       "      <th>2018-01-03</th>\n",
       "      <td>0.0</td>\n",
       "      <td>0.0</td>\n",
       "      <td>3.0</td>\n",
       "      <td>3.0</td>\n",
       "      <td>0.0</td>\n",
       "      <td>1.0</td>\n",
       "      <td>0.0</td>\n",
       "      <td>7.0</td>\n",
       "      <td>3.0</td>\n",
       "      <td>0.0</td>\n",
       "      <td>0.0</td>\n",
       "      <td>0.0</td>\n",
       "      <td>4.0</td>\n",
       "      <td>0.0</td>\n",
       "      <td>0.0</td>\n",
       "      <td>0.0</td>\n",
       "      <td>0.0</td>\n",
       "      <td>0.0</td>\n",
       "    </tr>\n",
       "    <tr>\n",
       "      <th>2018-01-04</th>\n",
       "      <td>0.0</td>\n",
       "      <td>1.0</td>\n",
       "      <td>1.0</td>\n",
       "      <td>9.0</td>\n",
       "      <td>0.0</td>\n",
       "      <td>1.0</td>\n",
       "      <td>0.0</td>\n",
       "      <td>7.0</td>\n",
       "      <td>3.0</td>\n",
       "      <td>0.0</td>\n",
       "      <td>0.0</td>\n",
       "      <td>0.0</td>\n",
       "      <td>0.0</td>\n",
       "      <td>0.0</td>\n",
       "      <td>0.0</td>\n",
       "      <td>0.0</td>\n",
       "      <td>8.0</td>\n",
       "      <td>8.0</td>\n",
       "    </tr>\n",
       "    <tr>\n",
       "      <th>2018-01-05</th>\n",
       "      <td>0.0</td>\n",
       "      <td>0.0</td>\n",
       "      <td>1.0</td>\n",
       "      <td>7.0</td>\n",
       "      <td>0.0</td>\n",
       "      <td>1.0</td>\n",
       "      <td>0.0</td>\n",
       "      <td>3.0</td>\n",
       "      <td>3.0</td>\n",
       "      <td>0.0</td>\n",
       "      <td>0.0</td>\n",
       "      <td>0.0</td>\n",
       "      <td>0.0</td>\n",
       "      <td>0.0</td>\n",
       "      <td>0.0</td>\n",
       "      <td>0.0</td>\n",
       "      <td>0.0</td>\n",
       "      <td>8.0</td>\n",
       "    </tr>\n",
       "  </tbody>\n",
       "</table>\n",
       "</div>"
      ],
      "text/plain": [
       "            Tier 1 - Video  Tier 2  - Video  Tier 3 - Video  Tier 4 - Video  \\\n",
       "Date no                                                                       \n",
       "2018-01-01             0.0              0.0             1.0             4.0   \n",
       "2018-01-02             0.0              0.0             3.0             4.0   \n",
       "2018-01-03             0.0              0.0             3.0             3.0   \n",
       "2018-01-04             0.0              1.0             1.0             9.0   \n",
       "2018-01-05             0.0              0.0             1.0             7.0   \n",
       "\n",
       "            Tier 5 - Video  Tier 6 - Video  Tier 7 - Video  Tier 8 - Video  \\\n",
       "Date no                                                                      \n",
       "2018-01-01             0.0             3.0             0.0             5.0   \n",
       "2018-01-02             0.0             1.0             0.0             4.0   \n",
       "2018-01-03             0.0             1.0             0.0             7.0   \n",
       "2018-01-04             0.0             1.0             0.0             7.0   \n",
       "2018-01-05             0.0             1.0             0.0             3.0   \n",
       "\n",
       "            Tier 9 - Video  Tier 1 - Non Video  Tier 2 - Non Video  \\\n",
       "Date no                                                              \n",
       "2018-01-01             1.0                 0.0                 0.0   \n",
       "2018-01-02             3.0                 0.0                 0.0   \n",
       "2018-01-03             3.0                 0.0                 0.0   \n",
       "2018-01-04             3.0                 0.0                 0.0   \n",
       "2018-01-05             3.0                 0.0                 0.0   \n",
       "\n",
       "            Tier 2 - Non Video  Tier 4 - Non Video  Tier 5 - Non Video  \\\n",
       "Date no                                                                  \n",
       "2018-01-01                 1.0                 0.0                 0.0   \n",
       "2018-01-02                 1.0                 0.0                 0.0   \n",
       "2018-01-03                 0.0                 4.0                 0.0   \n",
       "2018-01-04                 0.0                 0.0                 0.0   \n",
       "2018-01-05                 0.0                 0.0                 0.0   \n",
       "\n",
       "            Tier 6 - Non Video  Tier 7 - Non Video  Tier 8 - Non Video  \\\n",
       "Date no                                                                  \n",
       "2018-01-01                 0.0                 0.0                 0.0   \n",
       "2018-01-02                 0.0                 0.0                 0.0   \n",
       "2018-01-03                 0.0                 0.0                 0.0   \n",
       "2018-01-04                 0.0                 0.0                 8.0   \n",
       "2018-01-05                 0.0                 0.0                 0.0   \n",
       "\n",
       "            Tier 9 - Non Video  \n",
       "Date no                         \n",
       "2018-01-01                 8.0  \n",
       "2018-01-02                 0.0  \n",
       "2018-01-03                 0.0  \n",
       "2018-01-04                 8.0  \n",
       "2018-01-05                 8.0  "
      ]
     },
     "metadata": {},
     "output_type": "display_data"
    },
    {
     "data": {
      "text/plain": [
       "'----------------------------------------------------------------------------------------------------'"
      ]
     },
     "metadata": {},
     "output_type": "display_data"
    }
   ],
   "source": [
    "#Clean column names\n",
    "df1 = df1.rename(columns={'Tier 2  - Video  ': 'Tier 2 - Video', 'Tier 2 - Video': 'Tier 3 - Video',\n",
    "                         'Tier 2  - Non Video':'Tier 2 - Non Video', 'Tier 2 - Non Video ': 'Tier 3 - Non Video'})\n",
    "df2 = df2.rename(columns={'Tier 2  - Video  ': 'Tier 2 - Video', 'Tier 2 - Video': 'Tier 3 - Video',\n",
    "                         'Tier 2  - Non Video':'Tier 2 - Non Video', 'Tier 2 - Non Video ': 'Tier 3 - Non Video'})\n",
    "\n",
    "#Change date format\n",
    "df1['Date'] = pd.to_datetime(df1['Date'],format='%Y-%m-%d')\n",
    "df2['Date no'] = pd.to_datetime(df2['Date no'],format='%Y-%m-%d')\n",
    "\n",
    "#Set Index\n",
    "df1 = df1.set_index('Date')\n",
    "df2 = df2.set_index('Date no')\n",
    "\n",
    "#Convert all to float\n",
    "df1 = df1.astype(float)\n",
    "df2 = df2.astype(float)\n",
    "\n",
    "#Describe dataset\n",
    "desc_df2 = df2.describe()\n",
    "display(desc_df2)\n",
    "\n",
    "#Display head\n",
    "display(df1.head())\n",
    "display('-'*100)\n",
    "display(df2.head())\n",
    "display('-'*100)"
   ]
  },
  {
   "cell_type": "markdown",
   "metadata": {},
   "source": [
    "### Step 4) Check for multicollinearity in the independent variables"
   ]
  },
  {
   "cell_type": "code",
   "execution_count": 4,
   "metadata": {},
   "outputs": [
    {
     "data": {
      "text/plain": [
       "<AxesSubplot:>"
      ]
     },
     "execution_count": 4,
     "metadata": {},
     "output_type": "execute_result"
    },
    {
     "data": {
      "image/png": "[encoded data removed]",
      "text/plain": [
       "<Figure size 432x288 with 2 Axes>"
      ]
     },
     "metadata": {
      "needs_background": "light"
     },
     "output_type": "display_data"
    }
   ],
   "source": [
    "# calculate the correlation matrix\n",
    "corr = df2.corr()\n",
    "\n",
    "# display the correlation matrix\n",
    "#display(corr)\n",
    "\n",
    "# plot the correlation heatmap\n",
    "sn.heatmap(corr, xticklabels = corr.columns, yticklabels=corr.columns, cmap = 'RdBu')"
   ]
  },
  {
   "cell_type": "markdown",
   "metadata": {},
   "source": [
    "### Step 5) There is no correlation in the independent variables so VIF is not required. Remove redundant variables and plot scatter matrix\n"
   ]
  },
  {
   "cell_type": "code",
   "execution_count": 5,
   "metadata": {},
   "outputs": [],
   "source": [
    "# #df2_cleaned = df2_dataset.drop(['Tier 1 - Non Video','Tier 2 - Non Video','Tier 1 - Video'], axis = 1)\n",
    "# #df2_cleaned.describe()\n",
    "\n",
    "# # define the plot\n",
    "# pd.plotting.scatter_matrix(df2, alpha = 1, figsize = (30, 20))\n",
    "\n",
    "# # show the plot\n",
    "# plt.show()"
   ]
  },
  {
   "cell_type": "markdown",
   "metadata": {},
   "source": [
    "### Step 6) Split the dataset and build the model"
   ]
  },
  {
   "cell_type": "code",
   "execution_count": 6,
   "metadata": {},
   "outputs": [
    {
     "name": "stdout",
     "output_type": "stream",
     "text": [
      "(120, 18)\n",
      "(120, 1)\n",
      "****************************************************************************************************\n"
     ]
    }
   ],
   "source": [
    "\n",
    "X = df2.loc['2018-01-01':'2018-04-30']\n",
    "Y = df1.loc['2018-01-01':'2018-04-30']\n",
    "\n",
    "X_Predict = df2.loc['2018-05-01':'2018-05-15']\n",
    "\n",
    "print(X.shape)\n",
    "print(Y.shape)\n",
    "\n",
    "# Split X and y into X_\n",
    "X_train, X_test, y_train, y_test = train_test_split(X, Y, test_size=0.02, random_state=1)\n",
    "\n",
    "# create a Linear Regression model object\n",
    "regression = LinearRegression(normalize = True)\n",
    "\n",
    "# pass through the X_train & y_train data set\n",
    "regression.fit(X_train, y_train)\n",
    "\n",
    "print(\"*\"*100)\n"
   ]
  },
  {
   "cell_type": "markdown",
   "metadata": {},
   "source": [
    "### Step 7) Test the model output and get R-square"
   ]
  },
  {
   "cell_type": "code",
   "execution_count": 7,
   "metadata": {},
   "outputs": [
    {
     "name": "stdout",
     "output_type": "stream",
     "text": [
      "The intercept for our model is 2.03e+06\n",
      "----------------------------------------------------------------------------------------------------\n",
      "The Coefficient for Tier 1 - Video is 0.0\n",
      "The Coefficient for Tier 2  - Video is 2.2e+05\n",
      "The Coefficient for Tier 3 - Video is -1.4e+05\n",
      "The Coefficient for Tier 4 - Video is -2.1e+04\n",
      "The Coefficient for Tier 5 - Video is -1.1e+05\n",
      "The Coefficient for Tier 6 - Video is -2.2e+03\n",
      "The Coefficient for Tier 7 - Video is 1.2e+05\n",
      "The Coefficient for Tier 8 - Video is -1.5e+04\n",
      "The Coefficient for Tier 9 - Video is -1.1e+05\n",
      "The Coefficient for Tier 1 - Non Video is -2.3e-10\n",
      "The Coefficient for Tier 2 - Non Video is 2.3e-10\n",
      "The Coefficient for Tier 2 - Non Video is -2.4e+05\n",
      "The Coefficient for Tier 4 - Non Video is 3.3e+05\n",
      "The Coefficient for Tier 5 - Non Video is 4.7e-10\n",
      "The Coefficient for Tier 6 - Non Video is -2.5e+04\n",
      "The Coefficient for Tier 7 - Non Video is 0.0\n",
      "The Coefficient for Tier 8 - Non Video is 1.4e+05\n",
      "The Coefficient for Tier 9 - Non Video is -7.1e+04\n",
      "Rsquare: 0.95\n",
      "****************************************************************************************************\n"
     ]
    }
   ],
   "source": [
    "# Get coefficients of the model and the intercept\n",
    "intercept = regression.intercept_[0]\n",
    "coefficent = regression.coef_[0][0]\n",
    "\n",
    "print(\"The intercept for our model is {:.4}\".format(intercept))\n",
    "print('-'*100)\n",
    "\n",
    "# loop through the dictionary and print the data\n",
    "for coef in zip(X.columns, regression.coef_[0]):\n",
    "    print(\"The Coefficient for {} is {:.2}\".format(coef[0],coef[1]))\n",
    "    \n",
    "# Get multiple predictions\n",
    "y_predict = regression.predict(X_test)\n",
    "model_r2 = r2_score(y_test, y_predict)\n",
    "print(\"Rsquare: {:.2}\".format(model_r2))\n",
    "\n",
    "print(\"*\"*100)"
   ]
  },
  {
   "cell_type": "markdown",
   "metadata": {},
   "source": [
    "### Step 8) Evaluate the model\n",
    "#### Autocorrelation check\n",
    "#### Check for Mean of the Residuals \n",
    "\n",
    "To evaluate the model all the assumptions have to be tested. Check for autocorrelation & if residuals are normally distributed"
   ]
  },
  {
   "cell_type": "code",
   "execution_count": 8,
   "metadata": {},
   "outputs": [
    {
     "name": "stdout",
     "output_type": "stream",
     "text": [
      "The number of lags will be 10\n",
      "----------------------------------------------------------------------------------------------------\n"
     ]
    },
    {
     "name": "stderr",
     "output_type": "stream",
     "text": [
      "/Users/sagarpardeshi/opt/anaconda3/lib/python3.8/site-packages/statsmodels/stats/diagnostic.py:559: FutureWarning: The value returned will change to a single DataFrame after 0.12 is released.  Set return_df to True to use to return a DataFrame now.  Set return_df to False to silence this warning.\n",
      "  warnings.warn(msg, FutureWarning)\n"
     ]
    },
    {
     "data": {
      "image/png": "[encoded data removed]",
      "text/plain": [
       "<Figure size 432x288 with 1 Axes>"
      ]
     },
     "metadata": {
      "needs_background": "light"
     },
     "output_type": "display_data"
    },
    {
     "name": "stdout",
     "output_type": "stream",
     "text": [
      "****************************************************************************************************\n"
     ]
    }
   ],
   "source": [
    "# define our intput\n",
    "X2 = sm.add_constant(X)\n",
    "\n",
    "# create a OLS model\n",
    "model = sm.OLS(Y, X2)\n",
    "\n",
    "# fit the data\n",
    "est = model.fit()\n",
    "\n",
    "# test for autocorrelation\n",
    "from statsmodels.stats.stattools import durbin_watson\n",
    "\n",
    "# calculate the lag, optional\n",
    "lag = min(10, (len(X)//5))\n",
    "print('The number of lags will be {}'.format(lag))\n",
    "print('-'*100)\n",
    "\n",
    "# run the Ljung-Box test for no autocorrelation of residuals\n",
    "# test_results = diag.acorr_breusch_godfrey(est, nlags = lag, store = True)\n",
    "test_results = diag.acorr_ljungbox(est.resid, lags = lag)\n",
    "\n",
    "# grab the p-values and the test statistics\n",
    "ibvalue, p_val = test_results\n",
    "\n",
    "# plot autocorrelation\n",
    "sm.graphics.tsa.plot_acf(est.resid)\n",
    "plt.show()\n",
    "print(\"*\"*100)"
   ]
  },
  {
   "cell_type": "markdown",
   "metadata": {},
   "source": [
    "#### Autocorrelation exists in the input variables\n",
    "The tests show autocorrelation exists. Following are the suggested solves\n",
    "- increase the interval between observations (eg monthly to quarterly)\n",
    "- add/delete variables\n",
    "- try a different functional form\n",
    "- fix up the standard errors"
   ]
  },
  {
   "cell_type": "markdown",
   "metadata": {},
   "source": [
    "#### Check for Mean of the Residuals "
   ]
  },
  {
   "cell_type": "code",
   "execution_count": 9,
   "metadata": {},
   "outputs": [
    {
     "data": {
      "image/png": "[encoded data removed]",
      "text/plain": [
       "<Figure size 432x288 with 1 Axes>"
      ]
     },
     "metadata": {
      "needs_background": "light"
     },
     "output_type": "display_data"
    },
    {
     "name": "stdout",
     "output_type": "stream",
     "text": [
      "The mean of the residuals is -2.008e-09\n",
      "****************************************************************************************************\n"
     ]
    }
   ],
   "source": [
    "import pylab\n",
    "\n",
    "# check for the normality of the residuals\n",
    "sm.qqplot(est.resid, line='s')\n",
    "pylab.show()\n",
    "\n",
    "# also check that the mean of the residuals is approx. 0.\n",
    "mean_residuals = sum(est.resid)/ len(est.resid)\n",
    "print(\"The mean of the residuals is {:.4}\".format(mean_residuals))\n",
    "print(\"*\"*100)"
   ]
  },
  {
   "cell_type": "markdown",
   "metadata": {},
   "source": [
    "Residuals are very close to the mean"
   ]
  },
  {
   "cell_type": "markdown",
   "metadata": {},
   "source": [
    "#### Step 9) Save the model and predict the traffic into a CSV file"
   ]
  },
  {
   "cell_type": "code",
   "execution_count": 10,
   "metadata": {},
   "outputs": [
    {
     "name": "stdout",
     "output_type": "stream",
     "text": [
      "         Date               Traffic\n",
      "0  2018-05-01  [1807620.4542098627]\n",
      "1  2018-05-02  [1896176.5615606355]\n",
      "2  2018-05-03   [5341761.144502225]\n",
      "3  2018-05-04  [2048715.7898058114]\n",
      "4  2018-05-05  [1552210.0120364411]\n",
      "5  2018-05-06   [2004832.089269767]\n",
      "6  2018-05-07  [1538406.3865284377]\n",
      "7  2018-05-08  [1711159.8008444218]\n",
      "8  2018-05-09  [1562076.5799270277]\n",
      "9  2018-05-10  [3065739.1524610124]\n",
      "10 2018-05-11  [3514199.5884213094]\n",
      "11 2018-05-12  [1496432.7577190823]\n",
      "12 2018-05-13  [2180092.7403419614]\n",
      "13 2018-05-14  [1864298.4485583603]\n",
      "14 2018-05-15   [1802135.296065188]\n"
     ]
    }
   ],
   "source": [
    "import pickle\n",
    "import csv\n",
    "# pickle the model\n",
    "with open('FC_Solution_1.sav','wb') as f:\n",
    "     pickle.dump(regression, f)\n",
    "\n",
    "# load it back in\n",
    "with open('FC_Solution_1.sav', 'rb') as pickle_file:\n",
    "     regression_2 = pickle.load(pickle_file)\n",
    "        \n",
    "Traffic = regression_2.predict(X_Predict)\n",
    "Date = X_Predict.index\n",
    "Date = Date.tolist()\n",
    "Traffic = Traffic.tolist()\n",
    "Result = {'Date':Date,'Traffic':Traffic}\n",
    "\n",
    "Result = pd.DataFrame(Result)\n",
    "Result.to_csv('Results.csv')\n",
    "print(Result)"
   ]
  },
  {
   "cell_type": "code",
   "execution_count": null,
   "metadata": {},
   "outputs": [],
   "source": []
  }
 ],
 "metadata": {
  "kernelspec": {
   "display_name": "Python 3",
   "language": "python",
   "name": "python3"
  },
  "language_info": {
   "codemirror_mode": {
    "name": "ipython",
    "version": 3
   },
   "file_extension": ".py",
   "mimetype": "text/x-python",
   "name": "python",
   "nbconvert_exporter": "python",
   "pygments_lexer": "ipython3",
   "version": "3.8.5"
  }
 },
 "nbformat": 4,
 "nbformat_minor": 4
}
