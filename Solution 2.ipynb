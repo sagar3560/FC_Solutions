{
 "cells": [
  {
   "cell_type": "markdown",
   "metadata": {},
   "source": [
    "## Solution 2\n",
    "### Approach\n",
    "1) Select a few independent variables (across sectors)\n",
    "\n",
    "2) Map additional data for plotting geospatial visualizations\n",
    "\n",
    "3) Create widgets for controlling visualizations\n",
    "\n",
    "4) Create dynamic visualizations"
   ]
  },
  {
   "cell_type": "code",
   "execution_count": 1,
   "metadata": {},
   "outputs": [
    {
     "name": "stdout",
     "output_type": "stream",
     "text": [
      "****************************************************************************************************\n"
     ]
    }
   ],
   "source": [
    "%matplotlib inline\n",
    "\n",
    "#For Visualizations & data wrangling\n",
    "import numpy as np\n",
    "import seaborn as sn\n",
    "import matplotlib.pyplot as plt\n",
    "import pylab\n",
    "import pandas as pd\n",
    "import math\n",
    "\n",
    "from scipy import stats\n",
    "import statsmodels.api as sm\n",
    "from statsmodels.stats import diagnostic as diag\n",
    "from statsmodels.stats.outliers_influence import variance_inflation_factor\n",
    "\n",
    "#For Widgets\n",
    "from matplotlib.widgets import Slider, Button \n",
    "from __future__ import print_function\n",
    "from ipywidgets import interact, interactive, fixed, interact_manual\n",
    "import ipywidgets as widgets\n",
    "\n",
    "\n",
    "#For geoplots\n",
    "import pandas as pd\n",
    "import geopandas\n",
    "import matplotlib.pyplot as plt\n",
    "from shapely.geometry import Point\n",
    "from mpl_toolkits.axes_grid1 import make_axes_locatable\n",
    "\n",
    "print(\"*\"*100)"
   ]
  },
  {
   "cell_type": "code",
   "execution_count": 2,
   "metadata": {},
   "outputs": [
    {
     "name": "stdout",
     "output_type": "stream",
     "text": [
      "****************************************************************************************************\n"
     ]
    }
   ],
   "source": [
    "#Import files into datasets\n",
    "WDIData = pd.read_csv(\"/Users/sagarpardeshi/Downloads/WDI_csv/WDIData.csv\")\n",
    "WDISeries = pd.read_csv(\"/Users/sagarpardeshi/Downloads/WDI_csv/WDISeries.csv\")\n",
    "\n",
    "#Merge the datasets of Series and WDIData\n",
    "WDI_Data = pd.merge(WDIData, WDISeries[['Series Code','Topic']], \n",
    "                    left_on = 'Indicator Code',\n",
    "                    right_on ='Series Code', how ='left')\n",
    "\n",
    "#Create independent datasets of each indicator\n",
    "\n",
    "# WDIData_WB_Debt = WDI_Data[WDI_Data['Topic']=='World Bank, International Debt Statistics.']\n",
    "# WDIData_PS_GovFin = WDI_Data[WDI_Data['Topic']=='Public Sector: Government finance']\n",
    "# WDIData_PST_Trade = WDI_Data[WDI_Data['Topic']=='Private Sector & Trade: Total merchandise trade']\n",
    "# WDIData_Gender_Agency = WDI_Data[WDI_Data['Topic']=='Gender: Agency']\n",
    "# WDIData_EPD_GNI = WDI_Data[WDI_Data['Topic']=='Economic Policy & Debt: National accounts: Atlas GNI & GNI per capita!']\n",
    "WDI = WDI_Data.drop(['Indicator Name','Indicator Code','Series Code'], axis = 1)\n",
    "WDI = WDI.replace(np.nan,0,regex=True)\n",
    "WDI = WDI.loc[:, ~WDI.columns.str.contains('^Unnamed')]\n",
    "df = pd.melt(WDI, id_vars=[\"Country Code\",\"Country Name\",\"Topic\"],var_name=\"Year\",value_name=\"Values\")\n",
    "df['Year'] = pd.to_numeric(df['Year'])\n",
    "print(\"*\"*100)"
   ]
  },
  {
   "cell_type": "markdown",
   "metadata": {},
   "source": [
    "### Following dependent variables are selected to identify key features:\n",
    "- World Bank, International Debt Statistics\n",
    "- Public Sector: Government finance\n",
    "- Private Sector & Trade: Total merchandise trade\n",
    "- Gender: Agency\n",
    "- Economic Policy & Debt: National accounts: Atlas GNI & GNI per capita!\n",
    "\n",
    "\n",
    "### Create plot functions to make generic use"
   ]
  },
  {
   "cell_type": "code",
   "execution_count": 3,
   "metadata": {},
   "outputs": [
    {
     "name": "stdout",
     "output_type": "stream",
     "text": [
      "****************************************************************************************************\n"
     ]
    }
   ],
   "source": [
    "def plot_maps(df, top_label):\n",
    "    fig, ax = plt.subplots(1, 1)\n",
    "    divider = make_axes_locatable(ax)\n",
    "    cax = divider.append_axes(\"right\", size=\"5%\", pad=0.1)\n",
    "    df.plot(ax = ax, column = df['Values'], legend = True,cax = cax,cmap='OrRd',label=top_label,\n",
    "                  # edgecolor = 'black',\n",
    "                  # linewidth = 0.5,\n",
    "                   missing_kwds={\n",
    "                \"color\": \"lightgrey\",\n",
    "                \"edgecolor\": \"red\",\n",
    "                \"hatch\": \"/--\",\n",
    "                \"label\": \"Values missing for the zone\",\n",
    "            },\n",
    "                   legend_kwds={'label': top_label,'orientation': \"vertical\"})\n",
    "    fig = plt.gcf()\n",
    "    fig.set_figheight(12)\n",
    "    fig.set_figwidth(10)\n",
    "print(\"*\"*100)"
   ]
  },
  {
   "cell_type": "markdown",
   "metadata": {},
   "source": []
  },
  {
   "cell_type": "markdown",
   "metadata": {},
   "source": [
    "### Create widgets and call plot functions"
   ]
  },
  {
   "cell_type": "code",
   "execution_count": 4,
   "metadata": {},
   "outputs": [
    {
     "data": {
      "application/vnd.jupyter.widget-view+json": {
       "model_id": "53133781741f4471906560b392130878",
       "version_major": 2,
       "version_minor": 0
      },
      "text/plain": [
       "interactive(children=(Dropdown(description='Indicator', index=1, options=('World Bank, International Debt Stat…"
      ]
     },
     "metadata": {},
     "output_type": "display_data"
    },
    {
     "name": "stdout",
     "output_type": "stream",
     "text": [
      "****************************************************************************************************\n"
     ]
    }
   ],
   "source": [
    "def f2(top,year):\n",
    "    year = year\n",
    "    top = top\n",
    "    df_filtered = df[df['Topic'] == top]\n",
    "    df_filtered = df_filtered[df_filtered['Year']==year]\n",
    "    world = geopandas.read_file(geopandas.datasets.get_path('naturalearth_lowres'))\n",
    "    world_cleaned = pd.read_csv(\"/Users/sagarpardeshi/Downloads/WDI_csv/world.csv\")\n",
    "    world_map = pd.merge(world, world_cleaned[['name','CC']], \n",
    "                    on = 'name',\n",
    "                    how ='left')\n",
    "    world_map = pd.merge(world_map, df_filtered, \n",
    "                     left_on = 'CC', right_on = 'Country Code', how = 'left')\n",
    "    plot_maps(world_map,top)\n",
    "\n",
    "interact(f2, top=widgets.Dropdown(options = \n",
    "                    ['World Bank, International Debt Statistics.'\n",
    "                     ,'Public Sector: Government finance'\n",
    "                     ,'Private Sector & Trade: Total merchandise trade'\n",
    "                     ,'Gender: Agency']              ,\n",
    "                    value = 'Public Sector: Government finance',\n",
    "                    description = 'Indicator'),\n",
    "             year=widgets.IntSlider(min=min(df.Year),\n",
    "                                max=max(df.Year), \n",
    "                                step=1,\n",
    "                                description='Year:',\n",
    "                                disabled=False,\n",
    "                                continuous_update=False,\n",
    "                                orientation='horizontal',\n",
    "                                readout=True,\n",
    "                                readout_format='d',\n",
    "                                value=2014))\n",
    "print(\"*\"*100)"
   ]
  },
  {
   "cell_type": "markdown",
   "metadata": {},
   "source": [
    "### Create animations for the visualizations "
   ]
  },
  {
   "cell_type": "code",
   "execution_count": 5,
   "metadata": {},
   "outputs": [],
   "source": [
    "\n",
    "# import random\n",
    "# from itertools import count\n",
    "# from matplotlib.animation import FuncAnimation\n",
    "\n",
    "# fig, ax = plt.subplots(1, 1)\n",
    "# plt.figure(figsize=((10,8)))\n",
    "# x_vals = [0]\n",
    "# y_vals = [4]\n",
    "# index = count()\n",
    "# plt.style.use('fivethirtyeight')\n",
    "\n",
    "# def animate(i):\n",
    "#     plt.cla()\n",
    "#     print(x_vals)\n",
    "#     print(x_vals)\n",
    "#     plt.tight_layout()\n",
    "#     plt.figure(figsize=((10,8)))\n",
    "#     plt.plot(x_vals,y_vals)\n",
    "#     x_vals.append(next(index))\n",
    "#     y_vals.append(random.randint(1,5))\n",
    "\n",
    "\n",
    "\n",
    "    \n",
    "# ani = FuncAnimation(plt.gcf(),animate, interval = 2000)\n",
    "# ani"
   ]
  },
  {
   "cell_type": "code",
   "execution_count": 6,
   "metadata": {},
   "outputs": [
    {
     "data": {
      "application/vnd.jupyter.widget-view+json": {
       "model_id": "63b6408ddb7f46d8bacaeeca524a7e1d",
       "version_major": 2,
       "version_minor": 0
      },
      "text/plain": [
       "interactive(children=(Dropdown(description='Indicator', options=('World Bank, International Debt Statistics.',…"
      ]
     },
     "metadata": {},
     "output_type": "display_data"
    },
    {
     "data": {
      "text/plain": [
       "<function __main__.animate(top, yr)>"
      ]
     },
     "execution_count": 6,
     "metadata": {},
     "output_type": "execute_result"
    }
   ],
   "source": [
    "from IPython.display import clear_output\n",
    "yr = 2000\n",
    "def animate(top, yr):\n",
    "    for i in range(yr,max(df['Year'])-1):\n",
    "        print(\"Year is %i\" %yr)\n",
    "        yr = yr+1\n",
    "        df_filtered_2 = df[df['Year']==yr]\n",
    "        data = df_filtered_2[df_filtered_2['Topic'] == top].sort_values('Values',ascending = False).head(10)\n",
    "        y_vals = data['Values']\n",
    "        x_vals = data['Country Name']\n",
    "        plt.xlabel(top)\n",
    "        plt.gca().invert_yaxis()\n",
    "        plt.ylabel(\"Country\")\n",
    "        plt.title(\"Top Countries - %i\" %yr)\n",
    "        fig = plt.gcf()\n",
    "        fig.set_size_inches(11,7)\n",
    "        plt.barh(x_vals,y_vals, color ='maroon',align = 'center')\n",
    "        for j in plt.gca().patches:\n",
    "            plt.text(j.get_width()+0.2, j.get_y()+0.5,\n",
    "                     str(round((j.get_width()), 2)),\n",
    "                     fontsize = 10, fontweight ='bold',\n",
    "                     color ='grey')\n",
    "        plt.pause(5)  \n",
    "        plt.cla()\n",
    "        clear_output(wait=True)     \n",
    "    plt.show()\n",
    "\n",
    "interact(animate, top=widgets.Dropdown(options = \n",
    "                    ['World Bank, International Debt Statistics.'\n",
    "                     ,'Public Sector: Government finance'\n",
    "                     ,'Private Sector & Trade: Total merchandise trade'\n",
    "                     ,'Gender: Agency']              ,\n",
    "                    value = 'World Bank, International Debt Statistics.',\n",
    "                    description = 'Indicator'), yr=widgets.IntSlider(min=min(df.Year),\n",
    "                                max=max(df.Year), \n",
    "                                step=1,\n",
    "                                description='Year:',\n",
    "                                disabled=False,\n",
    "                                continuous_update=False,\n",
    "                                orientation='horizontal',\n",
    "                                readout=True,\n",
    "                                readout_format='d',\n",
    "                                value=1993))"
   ]
  },
  {
   "cell_type": "code",
   "execution_count": null,
   "metadata": {},
   "outputs": [],
   "source": []
  }
 ],
 "metadata": {
  "kernelspec": {
   "display_name": "Python 3",
   "language": "python",
   "name": "python3"
  },
  "language_info": {
   "codemirror_mode": {
    "name": "ipython",
    "version": 3
   },
   "file_extension": ".py",
   "mimetype": "text/x-python",
   "name": "python",
   "nbconvert_exporter": "python",
   "pygments_lexer": "ipython3",
   "version": "3.8.5"
  }
 },
 "nbformat": 4,
 "nbformat_minor": 4
}
